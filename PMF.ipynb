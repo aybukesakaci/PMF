{
  "nbformat": 4,
  "nbformat_minor": 0,
  "metadata": {
    "colab": {
      "name": "PMF.ipynb",
      "version": "0.3.2",
      "provenance": [],
      "include_colab_link": true
    },
    "language_info": {
      "codemirror_mode": {
        "name": "ipython",
        "version": 3
      },
      "file_extension": ".py",
      "mimetype": "text/x-python",
      "name": "python",
      "nbconvert_exporter": "python",
      "pygments_lexer": "ipython3",
      "version": "3.7.1"
    },
    "kernelspec": {
      "display_name": "Python 3",
      "language": "python",
      "name": "python3"
    }
  },
  "cells": [
    {
      "cell_type": "markdown",
      "metadata": {
        "id": "view-in-github",
        "colab_type": "text"
      },
      "source": [
        "<a href=\"https://colab.research.google.com/github/aybukesakaci/PMF/blob/master/PMF.ipynb\" target=\"_parent\"><img src=\"https://colab.research.google.com/assets/colab-badge.svg\" alt=\"Open In Colab\"/></a>"
      ]
    },
    {
      "metadata": {
        "id": "zjVDzbbnAzVv",
        "colab_type": "text"
      },
      "cell_type": "markdown",
      "source": [
        "**Soru:** 4 Mavi 6 Yeşil top bulunan bir torbadan 2 top çekiliyor. Mavi top gelme olasılığına ait olasılık kütle fonksiyonunu bulunuz."
      ]
    },
    {
      "metadata": {
        "id": "ugpX797sBwAJ",
        "colab_type": "text"
      },
      "cell_type": "markdown",
      "source": [
        "**Cevap:** Öncelikle rastgele değişkenler hesaplanır. 2 top çekilme işlemi için Rastgele_Değişken={0,1,2} olacaktır. Hiç mavi gelmeme olasılığı, bir mavi ve bir yeşil gelme olasılığı, ikisinin de mavi gelme olasılığı hesaplarak olasılık kütle fonksiyonu bulunur."
      ]
    },
    {
      "metadata": {
        "id": "vm-e1xi6Glsj",
        "colab_type": "text"
      },
      "cell_type": "markdown",
      "source": [
        "**Kod Parçası:** Ekrandan girilen mavi ve yeşil top sayısının içinden iki adet top çekme işlemi uygulanıyor. Her iki topun mavi gelme olasılığı, bir mavi bir yeşil gelme olasılığı, hiç mavi gelmeme olasılığını hesaplayan kod parçası aşağıdaki gibidir."
      ]
    },
    {
      "metadata": {
        "id": "Z_rAynUgAwTG",
        "colab_type": "code",
        "colab": {
          "base_uri": "https://localhost:8080/",
          "height": 119
        },
        "outputId": "f3243e5f-6f22-403b-a99d-d9365abd2a3f"
      },
      "cell_type": "code",
      "source": [
        "Mavi = int(input(\"mavi top sayısı? = \"))\n",
        "Yeşil = int(input(\"yeşil top sayısı? = \"))\n",
        "Toplam = Mavi+Yeşil\n",
        "X_2= (Mavi/Toplam)*((Mavi-1)/(Toplam-1))\n",
        "print('Her iki topun mavi gelme olasılığı:',X_2)\n",
        "X_1= (Mavi/Toplam)*(Yeşil/(Toplam-1))+(Yeşil/Toplam)*(Mavi/(Toplam-1))\n",
        "print('Bir topun mavi gelme olasılığı:',X_1)\n",
        "X_0= (Yeşil/Toplam)*((Yeşil-1)/(Toplam-1))\n",
        "print('Mavi gelmeme olasılığı:',X_0)\n",
        "\n",
        "#işlemin sağlaması\n",
        "TT=X_2+X_1+X_0\n",
        "print('Toplam Olasılık:',TT)"
      ],
      "execution_count": 2,
      "outputs": [
        {
          "output_type": "stream",
          "text": [
            "mavi top sayısı? = 4\n",
            "yeşil top sayısı? = 6\n",
            "Her iki topun mavi gelme olasılığı: 0.13333333333333333\n",
            "Bir topun mavi gelme olasılığı: 0.5333333333333333\n",
            "Mavi gelmeme olasılığı: 0.3333333333333333\n",
            "Toplam Olasılık: 1.0\n"
          ],
          "name": "stdout"
        }
      ]
    }
  ]
}