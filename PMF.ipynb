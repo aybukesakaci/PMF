{
 "cells": [
  {
   "cell_type": "code",
   "execution_count": 1,
   "metadata": {},
   "outputs": [
    {
     "name": "stdout",
     "output_type": "stream",
     "text": [
      "mavi top sayısı? = 5\n",
      "yeşil top sayısı? = 5\n",
      "Her iki topun mavi gelme olasılığı: 0.2222222222222222\n",
      "Bir topun mavi gelme olasılığı: 0.5555555555555556\n",
      "Mavi gelmeme olasılığı: 0.2222222222222222\n",
      "Toplam Olasılık: 1.0\n"
     ]
    }
   ],
   "source": [
    "Mavi = int(input(\"mavi top sayısı? = \"))\n",
    "Yeşil = int(input(\"yeşil top sayısı? = \"))\n",
    "Toplam = Mavi+Yeşil\n",
    "X_2= (Mavi/Toplam)*((Mavi-1)/(Toplam-1))\n",
    "print('Her iki topun mavi gelme olasılığı:',X_2)\n",
    "X_1= (Mavi/Toplam)*(Yeşil/(Toplam-1))+(Yeşil/Toplam)*(Mavi/(Toplam-1))\n",
    "print('Bir topun mavi gelme olasılığı:',X_1)\n",
    "X_0= (Yeşil/Toplam)*((Yeşil-1)/(Toplam-1))\n",
    "print('Mavi gelmeme olasılığı:',X_0)\n",
    "\n",
    "TT=X_2+X_1+X_0\n",
    "print('Toplam Olasılık:',TT)"
   ]
  },
  {
   "cell_type": "code",
   "execution_count": null,
   "metadata": {},
   "outputs": [],
   "source": []
  }
 ],
 "metadata": {
  "kernelspec": {
   "display_name": "Python 3",
   "language": "python",
   "name": "python3"
  },
  "language_info": {
   "codemirror_mode": {
    "name": "ipython",
    "version": 3
   },
   "file_extension": ".py",
   "mimetype": "text/x-python",
   "name": "python",
   "nbconvert_exporter": "python",
   "pygments_lexer": "ipython3",
   "version": "3.7.1"
  }
 },
 "nbformat": 4,
 "nbformat_minor": 2
}
